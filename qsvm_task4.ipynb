{
 "cells": [
  {
   "cell_type": "markdown",
   "id": "c1037df2",
   "metadata": {},
   "source": [
    "# QSVM QOSF Task 4 – Quantum Support Vector Machine on Iris Dataset\n",
    "\n",
    "**Author:** Boukabous Maria \n",
    "**Email:** mariaboukabous11@gmail.com\n",
    "**Task:** QOSF Mentorship Screening – Task 4 (QSVM)  \n",
    "\n",
    "---\n",
    "\n",
    "### Objective\n",
    "This notebook implements and compares two **Quantum Support Vector Machine (QSVM)** models on a binary classification problem using the Iris dataset.  \n",
    "\n",
    "We explore:\n",
    "- Data preprocessing and feature normalization\n",
    "- Classical SVM baseline\n",
    "- Two distinct QSVM circuits\n",
    "- Decision boundaries and performance metrics\n",
    "- Comparison between models\n",
    "\n",
    "All plots and figures are saved in the `figures/` directory.\n"
   ]
  },
  {
   "cell_type": "markdown",
   "id": "6451e278",
   "metadata": {},
   "source": [
    "## Import Libraries"
   ]
  },
  {
   "cell_type": "code",
   "execution_count": 1,
   "id": "c02a58ac",
   "metadata": {},
   "outputs": [],
   "source": [
    "# ----- Classical ML & Data -----\n",
    "import numpy as np\n",
    "import matplotlib.pyplot as plt\n",
    "from sklearn import datasets\n",
    "from sklearn.preprocessing import StandardScaler\n",
    "from sklearn.model_selection import train_test_split\n",
    "from sklearn.svm import SVC\n",
    "from sklearn.metrics import accuracy_score, confusion_matrix\n",
    "\n",
    "# ----- Quantum -----\n",
    "from qiskit import QuantumCircuit\n",
    "from qiskit.circuit import Parameter\n",
    "from qiskit_machine_learning.kernels import FidelityQuantumKernel\n",
    "\n",
    "# ----- Utilities -----\n",
    "import os\n",
    "import pandas as pd\n",
    "os.makedirs('figures', exist_ok=True)\n"
   ]
  },
  {
   "cell_type": "markdown",
   "id": "0eeede46",
   "metadata": {},
   "source": [
    "## Load and Explore Data"
   ]
  },
  {
   "cell_type": "code",
   "execution_count": 2,
   "id": "066db5ec",
   "metadata": {},
   "outputs": [
    {
     "name": "stdout",
     "output_type": "stream",
     "text": [
      " Data shape: (100, 2)\n",
      " Classes: [0 1]\n"
     ]
    },
    {
     "data": {
      "text/html": [
       "<div>\n",
       "<style scoped>\n",
       "    .dataframe tbody tr th:only-of-type {\n",
       "        vertical-align: middle;\n",
       "    }\n",
       "\n",
       "    .dataframe tbody tr th {\n",
       "        vertical-align: top;\n",
       "    }\n",
       "\n",
       "    .dataframe thead th {\n",
       "        text-align: right;\n",
       "    }\n",
       "</style>\n",
       "<table border=\"1\" class=\"dataframe\">\n",
       "  <thead>\n",
       "    <tr style=\"text-align: right;\">\n",
       "      <th></th>\n",
       "      <th>sepal length (cm)</th>\n",
       "      <th>sepal width (cm)</th>\n",
       "      <th>target</th>\n",
       "    </tr>\n",
       "  </thead>\n",
       "  <tbody>\n",
       "    <tr>\n",
       "      <th>0</th>\n",
       "      <td>5.1</td>\n",
       "      <td>3.5</td>\n",
       "      <td>0</td>\n",
       "    </tr>\n",
       "    <tr>\n",
       "      <th>1</th>\n",
       "      <td>4.9</td>\n",
       "      <td>3.0</td>\n",
       "      <td>0</td>\n",
       "    </tr>\n",
       "    <tr>\n",
       "      <th>2</th>\n",
       "      <td>4.7</td>\n",
       "      <td>3.2</td>\n",
       "      <td>0</td>\n",
       "    </tr>\n",
       "    <tr>\n",
       "      <th>3</th>\n",
       "      <td>4.6</td>\n",
       "      <td>3.1</td>\n",
       "      <td>0</td>\n",
       "    </tr>\n",
       "    <tr>\n",
       "      <th>4</th>\n",
       "      <td>5.0</td>\n",
       "      <td>3.6</td>\n",
       "      <td>0</td>\n",
       "    </tr>\n",
       "    <tr>\n",
       "      <th>5</th>\n",
       "      <td>5.4</td>\n",
       "      <td>3.9</td>\n",
       "      <td>0</td>\n",
       "    </tr>\n",
       "    <tr>\n",
       "      <th>6</th>\n",
       "      <td>4.6</td>\n",
       "      <td>3.4</td>\n",
       "      <td>0</td>\n",
       "    </tr>\n",
       "    <tr>\n",
       "      <th>7</th>\n",
       "      <td>5.0</td>\n",
       "      <td>3.4</td>\n",
       "      <td>0</td>\n",
       "    </tr>\n",
       "    <tr>\n",
       "      <th>8</th>\n",
       "      <td>4.4</td>\n",
       "      <td>2.9</td>\n",
       "      <td>0</td>\n",
       "    </tr>\n",
       "    <tr>\n",
       "      <th>9</th>\n",
       "      <td>4.9</td>\n",
       "      <td>3.1</td>\n",
       "      <td>0</td>\n",
       "    </tr>\n",
       "  </tbody>\n",
       "</table>\n",
       "</div>"
      ],
      "text/plain": [
       "   sepal length (cm)  sepal width (cm)  target\n",
       "0                5.1               3.5       0\n",
       "1                4.9               3.0       0\n",
       "2                4.7               3.2       0\n",
       "3                4.6               3.1       0\n",
       "4                5.0               3.6       0\n",
       "5                5.4               3.9       0\n",
       "6                4.6               3.4       0\n",
       "7                5.0               3.4       0\n",
       "8                4.4               2.9       0\n",
       "9                4.9               3.1       0"
      ]
     },
     "metadata": {},
     "output_type": "display_data"
    },
    {
     "data": {
      "image/png": "[encoded data removed]",
      "text/plain": [
       "<Figure size 600x500 with 1 Axes>"
      ]
     },
     "metadata": {},
     "output_type": "display_data"
    }
   ],
   "source": [
    "# ----- Load Iris dataset -----\n",
    "from sklearn import datasets\n",
    "import pandas as pd\n",
    "import matplotlib.pyplot as plt\n",
    "import numpy as np\n",
    "\n",
    "iris = datasets.load_iris()\n",
    "X = iris.data[:, :2]  # take first two features for visualization\n",
    "Y = iris.target\n",
    "\n",
    "# Keep only Setosa and Versicolor (binary classification)\n",
    "mask = Y < 2\n",
    "X = X[mask]\n",
    "Y = Y[mask]\n",
    "\n",
    "print(\" Data shape:\", X.shape)\n",
    "print(\" Classes:\", np.unique(Y))\n",
    "\n",
    "# ----- Display as table -----\n",
    "feature_names = iris.feature_names[:2]  # first two features\n",
    "df = pd.DataFrame(X, columns=feature_names)\n",
    "df['target'] = Y\n",
    "display(df.head(10))  # show first 10 rows\n",
    "\n",
    "# ----- Scatter plot of features -----\n",
    "plt.figure(figsize=(6,5))\n",
    "plt.scatter(X[Y==0,0], X[Y==0,1], color='blue', label='Setosa')\n",
    "plt.scatter(X[Y==1,0], X[Y==1,1], color='red', label='Versicolor')\n",
    "plt.xlabel(feature_names[0])\n",
    "plt.ylabel(feature_names[1])\n",
    "plt.title(\"Iris Feature Distribution\")\n",
    "plt.legend()\n",
    "plt.savefig(\"figures/iris_distribution.png\")\n",
    "plt.show()\n"
   ]
  },
  {
   "cell_type": "markdown",
   "id": "8a6d4a18",
   "metadata": {},
   "source": [
    "## Preprocessing"
   ]
  },
  {
   "cell_type": "code",
   "execution_count": 3,
   "id": "5de02f25",
   "metadata": {},
   "outputs": [
    {
     "name": "stdout",
     "output_type": "stream",
     "text": [
      " Train shape: (80, 2)  Test shape: (20, 2)\n"
     ]
    }
   ],
   "source": [
    "# Normalize features\n",
    "scaler = StandardScaler()\n",
    "X_scaled = scaler.fit_transform(X)\n",
    "\n",
    "# Split into train/test sets\n",
    "x_train, x_test, y_train, y_test = train_test_split(\n",
    "    X_scaled, Y, test_size=0.2, random_state=42\n",
    ")\n",
    "\n",
    "print(\" Train shape:\", x_train.shape, \" Test shape:\", x_test.shape)\n"
   ]
  },
  {
   "cell_type": "markdown",
   "id": "62302ac7",
   "metadata": {},
   "source": [
    "## Classical SVM Baseline"
   ]
  },
  {
   "cell_type": "code",
   "execution_count": 4,
   "id": "1e2e6a2a",
   "metadata": {},
   "outputs": [
    {
     "name": "stdout",
     "output_type": "stream",
     "text": [
      "Classical SVM Train Accuracy: 98.75%\n",
      "Classical SVM Test Accuracy: 100.00%\n",
      "Confusion matrix (train):\n",
      " [[37  1]\n",
      " [ 0 42]]\n",
      "Confusion matrix (test):\n",
      " [[12  0]\n",
      " [ 0  8]]\n"
     ]
    }
   ],
   "source": [
    "# Train classical SVM\n",
    "clf = SVC(kernel='linear')\n",
    "clf.fit(x_train, y_train)\n",
    "\n",
    "# Predictions\n",
    "y_train_pred = clf.predict(x_train)\n",
    "y_test_pred = clf.predict(x_test)\n",
    "\n",
    "# Accuracy\n",
    "print(f\"Classical SVM Train Accuracy: {accuracy_score(y_train, y_train_pred)*100:.2f}%\")\n",
    "print(f\"Classical SVM Test Accuracy: {accuracy_score(y_test, y_test_pred)*100:.2f}%\")\n",
    "\n",
    "# Confusion matrices\n",
    "print(\"Confusion matrix (train):\\n\", confusion_matrix(y_train, y_train_pred))\n",
    "print(\"Confusion matrix (test):\\n\", confusion_matrix(y_test, y_test_pred))\n"
   ]
  },
  {
   "cell_type": "markdown",
   "id": "e1c846b5",
   "metadata": {},
   "source": [
    "## Define QSVM Feature Map 1 (RY + CX)"
   ]
  },
  {
   "cell_type": "code",
   "execution_count": 5,
   "id": "d74913d0",
   "metadata": {},
   "outputs": [
    {
     "data": {
      "image/png": "[encoded data removed]",
      "text/plain": [
       "<Figure size 370.906x200.667 with 1 Axes>"
      ]
     },
     "execution_count": 5,
     "metadata": {},
     "output_type": "execute_result"
    }
   ],
   "source": [
    "# Feature map 1\n",
    "def feature_map_ry_cx():\n",
    "    x1 = Parameter('x1')\n",
    "    x2 = Parameter('x2')\n",
    "    qc = QuantumCircuit(2)\n",
    "    qc.ry(x1, 0)\n",
    "    qc.ry(x2, 1)\n",
    "    qc.cx(0,1)\n",
    "    qc.ry(x1,0)\n",
    "    qc.ry(x2,1)\n",
    "    return qc\n",
    "\n",
    "qc1 = feature_map_ry_cx()\n",
    "qc1.draw('mpl')\n"
   ]
  },
  {
   "cell_type": "markdown",
   "id": "5fcd236d",
   "metadata": {},
   "source": [
    "## Train QSVM Model 1"
   ]
  },
  {
   "cell_type": "code",
   "execution_count": 6,
   "id": "4103cab6",
   "metadata": {},
   "outputs": [
    {
     "name": "stdout",
     "output_type": "stream",
     "text": [
      " Computing training kernel for QSVM Model 1...\n",
      " QSVM Model 1 trained!\n",
      "QSVM Model 1 Train Accuracy: 91.25%\n",
      "QSVM Model 1 Test Accuracy: 85.00%\n"
     ]
    }
   ],
   "source": [
    "# Quantum kernel\n",
    "quantum_kernel_1 = FidelityQuantumKernel(feature_map=qc1)\n",
    "\n",
    "# Compute kernel\n",
    "print(\" Computing training kernel for QSVM Model 1...\")\n",
    "kernel_train_1 = quantum_kernel_1.evaluate(x_vec=x_train, y_vec=x_train)\n",
    "\n",
    "# Train SVM with precomputed kernel\n",
    "qsvm_model_1 = SVC(kernel='precomputed')\n",
    "qsvm_model_1.fit(kernel_train_1, y_train)\n",
    "print(\" QSVM Model 1 trained!\")\n",
    "\n",
    "# Train and Test predictions\n",
    "y_train_pred_q1 = qsvm_model_1.predict(kernel_train_1)\n",
    "kernel_test_1 = quantum_kernel_1.evaluate(x_vec=x_test, y_vec=x_train)\n",
    "y_test_pred_q1 = qsvm_model_1.predict(kernel_test_1)\n",
    "\n",
    "# Accuracy\n",
    "train_acc_q1 = accuracy_score(y_train, y_train_pred_q1)\n",
    "test_acc_q1 = accuracy_score(y_test, y_test_pred_q1)\n",
    "print(f\"QSVM Model 1 Train Accuracy: {train_acc_q1*100:.2f}%\")\n",
    "print(f\"QSVM Model 1 Test Accuracy: {test_acc_q1*100:.2f}%\")\n"
   ]
  },
  {
   "cell_type": "markdown",
   "id": "5e9edee3",
   "metadata": {},
   "source": [
    "## QSVM Model 2 (RZ + CX + Layered)"
   ]
  },
  {
   "cell_type": "code",
   "execution_count": 7,
   "id": "38765dc7",
   "metadata": {},
   "outputs": [
    {
     "data": {
      "image/png": "[encoded data removed]",
      "text/plain": [
       "<Figure size 538.128x200.667 with 1 Axes>"
      ]
     },
     "execution_count": 7,
     "metadata": {},
     "output_type": "execute_result"
    }
   ],
   "source": [
    "def feature_map_rz_cx_layers():\n",
    "    x1 = Parameter('x1')\n",
    "    x2 = Parameter('x2')\n",
    "    qc = QuantumCircuit(2)\n",
    "    qc.h([0,1])\n",
    "    qc.cx(0,1)\n",
    "    qc.rz(x1,0)\n",
    "    qc.rz(x2,1)\n",
    "    qc.cx(0,1)\n",
    "    qc.rz(x1,0)\n",
    "    qc.rz(x2,1)\n",
    "    return qc\n",
    "\n",
    "qc2 = feature_map_rz_cx_layers()\n",
    "qc2.draw('mpl')\n"
   ]
  },
  {
   "cell_type": "markdown",
   "id": "8063e72c",
   "metadata": {},
   "source": [
    "## Train QSVM Model 2"
   ]
  },
  {
   "cell_type": "code",
   "execution_count": 8,
   "id": "494fbce8",
   "metadata": {},
   "outputs": [
    {
     "name": "stdout",
     "output_type": "stream",
     "text": [
      " Computing training kernel for QSVM Model 2...\n",
      "QSVM Model 2 Train Accuracy: 81.25%\n",
      "QSVM Model 2 Test Accuracy: 85.00%\n"
     ]
    }
   ],
   "source": [
    "quantum_kernel_2 = FidelityQuantumKernel(feature_map=qc2)\n",
    "\n",
    "print(\" Computing training kernel for QSVM Model 2...\")\n",
    "kernel_train_2 = quantum_kernel_2.evaluate(x_vec=x_train, y_vec=x_train)\n",
    "\n",
    "qsvm_model_2 = SVC(kernel='precomputed')\n",
    "qsvm_model_2.fit(kernel_train_2, y_train)\n",
    "\n",
    "# Predictions\n",
    "y_train_pred_q2 = qsvm_model_2.predict(kernel_train_2)\n",
    "kernel_test_2 = quantum_kernel_2.evaluate(x_vec=x_test, y_vec=x_train)\n",
    "y_test_pred_q2 = qsvm_model_2.predict(kernel_test_2)\n",
    "\n",
    "# Accuracy\n",
    "train_acc_q2 = accuracy_score(y_train, y_train_pred_q2)\n",
    "test_acc_q2 = accuracy_score(y_test, y_test_pred_q2)\n",
    "print(f\"QSVM Model 2 Train Accuracy: {train_acc_q2*100:.2f}%\")\n",
    "print(f\"QSVM Model 2 Test Accuracy: {test_acc_q2*100:.2f}%\")\n"
   ]
  },
  {
   "cell_type": "markdown",
   "id": "98f1bb14",
   "metadata": {},
   "source": [
    "## Plot Decision Boundaries"
   ]
  },
  {
   "cell_type": "code",
   "execution_count": null,
   "id": "f8cbfed7",
   "metadata": {},
   "outputs": [],
   "source": [
    "from sklearn.metrics.pairwise import rbf_kernel\n",
    "\n",
    "def fast_plot_decision_boundary(model, x_data, y_data, x_train_ref, title, save_path):\n",
    "    xx, yy = np.meshgrid(\n",
    "        np.linspace(x_data[:,0].min()-1, x_data[:,0].max()+1, 40),\n",
    "        np.linspace(x_data[:,1].min()-1, x_data[:,1].max()+1, 40)\n",
    "    )\n",
    "    grid_points = np.c_[xx.ravel(), yy.ravel()]\n",
    "\n",
    "    # Approximate quantum kernel with a classical RBF kernel (for visualization only)\n",
    "    kernel_grid = rbf_kernel(grid_points, x_train_ref, gamma=0.5)\n",
    "\n",
    "    Z = model.predict(kernel_grid).reshape(xx.shape)\n",
    "    \n",
    "    plt.figure(figsize=(7,5))\n",
    "    plt.contourf(xx, yy, Z, alpha=0.3, cmap=\"RdBu\")\n",
    "    plt.scatter(x_data[y_data==0,0], x_data[y_data==0,1], color='blue', label='Setosa')\n",
    "    plt.scatter(x_data[y_data==1,0], x_data[y_data==1,1], color='red', label='Versicolor')\n",
    "    plt.title(title)\n",
    "    plt.xlabel(\"Feature 1\")\n",
    "    plt.ylabel(\"Feature 2\")\n",
    "    plt.legend()\n",
    "    plt.savefig(save_path)\n",
    "    plt.show()\n"
   ]
  },
  {
   "cell_type": "markdown",
   "id": "4171a34d",
   "metadata": {},
   "source": [
    "## Compare Model Performance"
   ]
  },
  {
   "cell_type": "code",
   "execution_count": 12,
   "id": "ac077ea6",
   "metadata": {},
   "outputs": [],
   "source": [
    "from sklearn.metrics.pairwise import rbf_kernel\n",
    "\n",
    "def fast_plot_decision_boundary(model, x_data, y_data, x_train_ref, title, save_path):\n",
    "    xx, yy = np.meshgrid(\n",
    "        np.linspace(x_data[:,0].min()-1, x_data[:,0].max()+1, 40),\n",
    "        np.linspace(x_data[:,1].min()-1, x_data[:,1].max()+1, 40)\n",
    "    )\n",
    "    grid_points = np.c_[xx.ravel(), yy.ravel()]\n",
    "\n",
    "    # Approximate quantum kernel with a classical RBF kernel (for visualization only)\n",
    "    kernel_grid = rbf_kernel(grid_points, x_train_ref, gamma=0.5)\n",
    "\n",
    "    Z = model.predict(kernel_grid).reshape(xx.shape)\n",
    "    \n",
    "    plt.figure(figsize=(7,5))\n",
    "    plt.contourf(xx, yy, Z, alpha=0.3, cmap=\"RdBu\")\n",
    "    plt.scatter(x_data[y_data==0,0], x_data[y_data==0,1], color='blue', label='Setosa')\n",
    "    plt.scatter(x_data[y_data==1,0], x_data[y_data==1,1], color='red', label='Versicolor')\n",
    "    plt.title(title)\n",
    "    plt.xlabel(\"Feature 1\")\n",
    "    plt.ylabel(\"Feature 2\")\n",
    "    plt.legend()\n",
    "    plt.savefig(save_path)\n",
    "    plt.show()\n",
    "\n"
   ]
  },
  {
   "cell_type": "code",
   "execution_count": null,
   "id": "15a5fab7",
   "metadata": {},
   "outputs": [
    {
     "data": {
      "image/png": "[encoded data removed]",
      "text/plain": [
       "<Figure size 700x500 with 1 Axes>"
      ]
     },
     "metadata": {},
     "output_type": "display_data"
    },
    {
     "data": {
      "image/png": "[encoded data removed]",
      "text/plain": [
       "<Figure size 700x500 with 1 Axes>"
      ]
     },
     "metadata": {},
     "output_type": "display_data"
    },
    {
     "data": {
      "image/png": "[encoded data removed]",
      "text/plain": [
       "<Figure size 700x500 with 1 Axes>"
      ]
     },
     "metadata": {},
     "output_type": "display_data"
    },
    {
     "data": {
      "image/png": "[encoded data removed]",
      "text/plain": [
       "<Figure size 700x500 with 1 Axes>"
      ]
     },
     "metadata": {},
     "output_type": "display_data"
    }
   ],
   "source": [
    "fast_plot_decision_boundary(qsvm_model_1, x_train, y_train, x_train, \"Approximate QSVM Model 1 - Train\", \"figures/qsvm_fast.png\")\n",
    "fast_plot_decision_boundary(qsvm_model_1, x_train, y_train, x_train,\n",
    "                            \"QSVM Model 1 - Training Set\", \"figures/qsvm1_train_fast.png\")\n",
    "\n",
    "fast_plot_decision_boundary(qsvm_model_1, x_test, y_test, x_train,\n",
    "                            \"QSVM Model 1 - Test Set\", \"figures/qsvm1_test_fast.png\")\n",
    "\n",
    "fast_plot_decision_boundary(qsvm_model_2, x_train, y_train, x_train,\n",
    "                            \"QSVM Model 2 - Training Set\", \"figures/qsvm2_train_fast.png\")\n",
    "fast_plot_decision_boundary(qsvm_model_2, x_test, y_test, x_train,\n",
    "                            \"QSVM Model 2 - Test Set\", \"figures/qsvm2_test_fast.png\")\n",
    "\n"
   ]
  },
  {
   "cell_type": "markdown",
   "id": "483902c3",
   "metadata": {},
   "source": [
    "## Performance Comparison Plot"
   ]
  },
  {
   "cell_type": "code",
   "execution_count": 14,
   "id": "615667f2",
   "metadata": {},
   "outputs": [
    {
     "ename": "KeyError",
     "evalue": "'Model'",
     "output_type": "error",
     "traceback": [
      "\u001b[31m---------------------------------------------------------------------------\u001b[39m",
      "\u001b[31mKeyError\u001b[39m                                  Traceback (most recent call last)",
      "\u001b[36mFile \u001b[39m\u001b[32m~\\AppData\\Local\\Packages\\PythonSoftwareFoundation.Python.3.11_qbz5n2kfra8p0\\LocalCache\\local-packages\\Python311\\site-packages\\pandas\\core\\indexes\\base.py:3812\u001b[39m, in \u001b[36mIndex.get_loc\u001b[39m\u001b[34m(self, key)\u001b[39m\n\u001b[32m   3811\u001b[39m \u001b[38;5;28;01mtry\u001b[39;00m:\n\u001b[32m-> \u001b[39m\u001b[32m3812\u001b[39m     \u001b[38;5;28;01mreturn\u001b[39;00m \u001b[38;5;28;43mself\u001b[39;49m\u001b[43m.\u001b[49m\u001b[43m_engine\u001b[49m\u001b[43m.\u001b[49m\u001b[43mget_loc\u001b[49m\u001b[43m(\u001b[49m\u001b[43mcasted_key\u001b[49m\u001b[43m)\u001b[49m\n\u001b[32m   3813\u001b[39m \u001b[38;5;28;01mexcept\u001b[39;00m \u001b[38;5;167;01mKeyError\u001b[39;00m \u001b[38;5;28;01mas\u001b[39;00m err:\n",
      "\u001b[36mFile \u001b[39m\u001b[32mpandas/_libs/index.pyx:167\u001b[39m, in \u001b[36mpandas._libs.index.IndexEngine.get_loc\u001b[39m\u001b[34m()\u001b[39m\n",
      "\u001b[36mFile \u001b[39m\u001b[32mpandas/_libs/index.pyx:196\u001b[39m, in \u001b[36mpandas._libs.index.IndexEngine.get_loc\u001b[39m\u001b[34m()\u001b[39m\n",
      "\u001b[36mFile \u001b[39m\u001b[32mpandas/_libs/hashtable_class_helper.pxi:7088\u001b[39m, in \u001b[36mpandas._libs.hashtable.PyObjectHashTable.get_item\u001b[39m\u001b[34m()\u001b[39m\n",
      "\u001b[36mFile \u001b[39m\u001b[32mpandas/_libs/hashtable_class_helper.pxi:7096\u001b[39m, in \u001b[36mpandas._libs.hashtable.PyObjectHashTable.get_item\u001b[39m\u001b[34m()\u001b[39m\n",
      "\u001b[31mKeyError\u001b[39m: 'Model'",
      "\nThe above exception was the direct cause of the following exception:\n",
      "\u001b[31mKeyError\u001b[39m                                  Traceback (most recent call last)",
      "\u001b[36mCell\u001b[39m\u001b[36m \u001b[39m\u001b[32mIn[14]\u001b[39m\u001b[32m, line 2\u001b[39m\n\u001b[32m      1\u001b[39m plt.figure(figsize=(\u001b[32m6\u001b[39m,\u001b[32m4\u001b[39m))\n\u001b[32m----> \u001b[39m\u001b[32m2\u001b[39m plt.bar(\u001b[43mdf\u001b[49m\u001b[43m[\u001b[49m\u001b[33;43m'\u001b[39;49m\u001b[33;43mModel\u001b[39;49m\u001b[33;43m'\u001b[39;49m\u001b[43m]\u001b[49m, [train_acc_q1*\u001b[32m100\u001b[39m, train_acc_q2*\u001b[32m100\u001b[39m, accuracy_score(y_train, y_train_pred)*\u001b[32m100\u001b[39m], alpha=\u001b[32m0.7\u001b[39m, label=\u001b[33m'\u001b[39m\u001b[33mTrain\u001b[39m\u001b[33m'\u001b[39m)\n\u001b[32m      3\u001b[39m plt.bar(df[\u001b[33m'\u001b[39m\u001b[33mModel\u001b[39m\u001b[33m'\u001b[39m], [test_acc_q1*\u001b[32m100\u001b[39m, test_acc_q2*\u001b[32m100\u001b[39m, accuracy_score(y_test, y_test_pred)*\u001b[32m100\u001b[39m], alpha=\u001b[32m0.7\u001b[39m, label=\u001b[33m'\u001b[39m\u001b[33mTest\u001b[39m\u001b[33m'\u001b[39m)\n\u001b[32m      4\u001b[39m plt.ylabel(\u001b[33m\"\u001b[39m\u001b[33mAccuracy (\u001b[39m\u001b[33m%\u001b[39m\u001b[33m)\u001b[39m\u001b[33m\"\u001b[39m)\n",
      "\u001b[36mFile \u001b[39m\u001b[32m~\\AppData\\Local\\Packages\\PythonSoftwareFoundation.Python.3.11_qbz5n2kfra8p0\\LocalCache\\local-packages\\Python311\\site-packages\\pandas\\core\\frame.py:4107\u001b[39m, in \u001b[36mDataFrame.__getitem__\u001b[39m\u001b[34m(self, key)\u001b[39m\n\u001b[32m   4105\u001b[39m \u001b[38;5;28;01mif\u001b[39;00m \u001b[38;5;28mself\u001b[39m.columns.nlevels > \u001b[32m1\u001b[39m:\n\u001b[32m   4106\u001b[39m     \u001b[38;5;28;01mreturn\u001b[39;00m \u001b[38;5;28mself\u001b[39m._getitem_multilevel(key)\n\u001b[32m-> \u001b[39m\u001b[32m4107\u001b[39m indexer = \u001b[38;5;28;43mself\u001b[39;49m\u001b[43m.\u001b[49m\u001b[43mcolumns\u001b[49m\u001b[43m.\u001b[49m\u001b[43mget_loc\u001b[49m\u001b[43m(\u001b[49m\u001b[43mkey\u001b[49m\u001b[43m)\u001b[49m\n\u001b[32m   4108\u001b[39m \u001b[38;5;28;01mif\u001b[39;00m is_integer(indexer):\n\u001b[32m   4109\u001b[39m     indexer = [indexer]\n",
      "\u001b[36mFile \u001b[39m\u001b[32m~\\AppData\\Local\\Packages\\PythonSoftwareFoundation.Python.3.11_qbz5n2kfra8p0\\LocalCache\\local-packages\\Python311\\site-packages\\pandas\\core\\indexes\\base.py:3819\u001b[39m, in \u001b[36mIndex.get_loc\u001b[39m\u001b[34m(self, key)\u001b[39m\n\u001b[32m   3814\u001b[39m     \u001b[38;5;28;01mif\u001b[39;00m \u001b[38;5;28misinstance\u001b[39m(casted_key, \u001b[38;5;28mslice\u001b[39m) \u001b[38;5;129;01mor\u001b[39;00m (\n\u001b[32m   3815\u001b[39m         \u001b[38;5;28misinstance\u001b[39m(casted_key, abc.Iterable)\n\u001b[32m   3816\u001b[39m         \u001b[38;5;129;01mand\u001b[39;00m \u001b[38;5;28many\u001b[39m(\u001b[38;5;28misinstance\u001b[39m(x, \u001b[38;5;28mslice\u001b[39m) \u001b[38;5;28;01mfor\u001b[39;00m x \u001b[38;5;129;01min\u001b[39;00m casted_key)\n\u001b[32m   3817\u001b[39m     ):\n\u001b[32m   3818\u001b[39m         \u001b[38;5;28;01mraise\u001b[39;00m InvalidIndexError(key)\n\u001b[32m-> \u001b[39m\u001b[32m3819\u001b[39m     \u001b[38;5;28;01mraise\u001b[39;00m \u001b[38;5;167;01mKeyError\u001b[39;00m(key) \u001b[38;5;28;01mfrom\u001b[39;00m\u001b[38;5;250m \u001b[39m\u001b[34;01merr\u001b[39;00m\n\u001b[32m   3820\u001b[39m \u001b[38;5;28;01mexcept\u001b[39;00m \u001b[38;5;167;01mTypeError\u001b[39;00m:\n\u001b[32m   3821\u001b[39m     \u001b[38;5;66;03m# If we have a listlike key, _check_indexing_error will raise\u001b[39;00m\n\u001b[32m   3822\u001b[39m     \u001b[38;5;66;03m#  InvalidIndexError. Otherwise we fall through and re-raise\u001b[39;00m\n\u001b[32m   3823\u001b[39m     \u001b[38;5;66;03m#  the TypeError.\u001b[39;00m\n\u001b[32m   3824\u001b[39m     \u001b[38;5;28mself\u001b[39m._check_indexing_error(key)\n",
      "\u001b[31mKeyError\u001b[39m: 'Model'"
     ]
    },
    {
     "data": {
      "text/plain": [
       "<Figure size 600x400 with 0 Axes>"
      ]
     },
     "metadata": {},
     "output_type": "display_data"
    }
   ],
   "source": [
    "plt.figure(figsize=(6,4))\n",
    "plt.bar(df['Model'], [train_acc_q1*100, train_acc_q2*100, accuracy_score(y_train, y_train_pred)*100], alpha=0.7, label='Train')\n",
    "plt.bar(df['Model'], [test_acc_q1*100, test_acc_q2*100, accuracy_score(y_test, y_test_pred)*100], alpha=0.7, label='Test')\n",
    "plt.ylabel(\"Accuracy (%)\")\n",
    "plt.title(\"QSVM vs Classical SVM Performance\")\n",
    "plt.legend()\n",
    "plt.savefig(\"figures/performance_comparison.png\")\n",
    "plt.show()\n"
   ]
  },
  {
   "cell_type": "code",
   "execution_count": 9,
   "id": "a05baff6",
   "metadata": {},
   "outputs": [],
   "source": [
    "import numpy as np\n",
    "import matplotlib.pyplot as plt\n",
    "import os\n",
    "from tqdm import tqdm  # for progress bar\n",
    "import time\n",
    "\n",
    "def plot_all_boundaries(x_train, y_train,\n",
    "                        classical_model,\n",
    "                        qsvm_model_1, q_kernel_1,\n",
    "                        qsvm_model_2, q_kernel_2,\n",
    "                        cache_dir=\"kernel_cache\",\n",
    "                        fast_mode=True):\n",
    "    \"\"\"\n",
    "    Compare Classical SVM and QSVM decision boundaries efficiently.\n",
    "\n",
    "    Parameters\n",
    "    ----------\n",
    "    x_train, y_train : np.ndarray\n",
    "        Training data and labels.\n",
    "    classical_model : sklearn.svm.SVC\n",
    "        Trained classical SVM model.\n",
    "    qsvm_model_1, qsvm_model_2 : SVC\n",
    "        Trained quantum SVMs using precomputed kernels.\n",
    "    q_kernel_1, q_kernel_2 : QuantumKernel\n",
    "        Qiskit quantum kernels used to compute similarity.\n",
    "    cache_dir : str\n",
    "        Directory where quantum kernels for visualization are cached.\n",
    "    fast_mode : bool\n",
    "        If True, uses a 50x50 grid instead of 200x200 (100× faster).\n",
    "    \"\"\"\n",
    "\n",
    "    # -----------------------------\n",
    "    # Create cache directory\n",
    "    # -----------------------------\n",
    "    os.makedirs(cache_dir, exist_ok=True)\n",
    "\n",
    "    # -----------------------------\n",
    "    # Grid for visualization\n",
    "    # -----------------------------\n",
    "    grid_size = 50 if fast_mode else 200\n",
    "    xx, yy = np.meshgrid(\n",
    "        np.linspace(x_train[:, 0].min() - 1, x_train[:, 0].max() + 1, grid_size),\n",
    "        np.linspace(x_train[:, 1].min() - 1, x_train[:, 1].max() + 1, grid_size)\n",
    "    )\n",
    "    grid = np.c_[xx.ravel(), yy.ravel()]\n",
    "    print(f\"🟦 Grid size: {grid_size}x{grid_size} ({len(grid)} points)\")\n",
    "\n",
    "    # -----------------------------\n",
    "    # Classical SVM predictions\n",
    "    # -----------------------------\n",
    "    print(\"📘 Predicting Classical SVM boundaries...\")\n",
    "    Z_classical = classical_model.predict(grid).reshape(xx.shape)\n",
    "\n",
    "    # -----------------------------\n",
    "    # Quantum kernel predictions (with caching)\n",
    "    # -----------------------------\n",
    "    def compute_or_load_kernel(q_kernel, kernel_name):\n",
    "        cache_file = os.path.join(cache_dir, f\"{kernel_name}.npy\")\n",
    "        if os.path.exists(cache_file):\n",
    "            print(f\"✅ Loaded cached {kernel_name}\")\n",
    "            return np.load(cache_file)\n",
    "        else:\n",
    "            print(f\"⚙️ Computing {kernel_name} (this may take a while)...\")\n",
    "            start = time.time()\n",
    "            k_eval = q_kernel.evaluate(x_vec=grid, y_vec=x_train)\n",
    "            np.save(cache_file, k_eval)\n",
    "            print(f\"✅ Saved {kernel_name} to cache ({time.time()-start:.2f}s)\")\n",
    "            return k_eval\n",
    "\n",
    "    print(\"📗 Evaluating QSVM Model 1 kernel...\")\n",
    "    grid_kernel_1 = compute_or_load_kernel(q_kernel_1, \"grid_kernel_1\")\n",
    "    print(\"📙 Evaluating QSVM Model 2 kernel...\")\n",
    "    grid_kernel_2 = compute_or_load_kernel(q_kernel_2, \"grid_kernel_2\")\n",
    "\n",
    "    print(\"📈 Predicting QSVM model boundaries...\")\n",
    "    Z_q1 = qsvm_model_1.predict(grid_kernel_1).reshape(xx.shape)\n",
    "    Z_q2 = qsvm_model_2.predict(grid_kernel_2).reshape(xx.shape)\n",
    "\n",
    "    # -----------------------------\n",
    "    # Plot all decision boundaries\n",
    "    # -----------------------------\n",
    "    plt.figure(figsize=(18, 5))\n",
    "\n",
    "    # Classical SVM\n",
    "    plt.subplot(1, 3, 1)\n",
    "    plt.contourf(xx, yy, Z_classical, alpha=0.3, cmap='RdBu')\n",
    "    plt.scatter(x_train[y_train == 0, 0], x_train[y_train == 0, 1],\n",
    "                color='blue', label='Setosa')\n",
    "    plt.scatter(x_train[y_train == 1, 0], x_train[y_train == 1, 1],\n",
    "                color='red', label='Versicolor')\n",
    "    plt.title(\"Classical SVM - Decision Boundary\")\n",
    "    plt.xlabel(\"Feature 1\")\n",
    "    plt.ylabel(\"Feature 2\")\n",
    "    plt.legend()\n",
    "\n",
    "    # QSVM Model 1\n",
    "    plt.subplot(1, 3, 2)\n",
    "    plt.contourf(xx, yy, Z_q1, alpha=0.3, cmap='RdBu')\n",
    "    plt.scatter(x_train[y_train == 0, 0], x_train[y_train == 0, 1],\n",
    "                color='blue', label='Setosa')\n",
    "    plt.scatter(x_train[y_train == 1, 0], x_train[y_train == 1, 1],\n",
    "                color='red', label='Versicolor')\n",
    "    plt.title(\"QSVM Model 1 - Decision Boundary\")\n",
    "    plt.xlabel(\"Feature 1\")\n",
    "    plt.ylabel(\"Feature 2\")\n",
    "\n",
    "    # QSVM Model 2\n",
    "    plt.subplot(1, 3, 3)\n",
    "    plt.contourf(xx, yy, Z_q2, alpha=0.3, cmap='RdBu')\n",
    "    plt.scatter(x_train[y_train == 0, 0], x_train[y_train == 0, 1],\n",
    "                color='blue', label='Setosa')\n",
    "    plt.scatter(x_train[y_train == 1, 0], x_train[y_train == 1, 1],\n",
    "                color='red', label='Versicolor')\n",
    "    plt.title(\"QSVM Model 2 - Decision Boundary\")\n",
    "    plt.xlabel(\"Feature 1\")\n",
    "    plt.ylabel(\"Feature 2\")\n",
    "\n",
    "    plt.tight_layout()\n",
    "    plt.savefig(\"figures/decision_boundary_comparison.png\")\n",
    "    plt.show()\n",
    "\n",
    "    print(\"✅ Done! Figure saved at 'figures/decision_boundary_comparison.png'\")\n",
    "\n"
   ]
  },
  {
   "cell_type": "markdown",
   "id": "9e2d5508",
   "metadata": {},
   "source": [
    "another thingggggg"
   ]
  },
  {
   "cell_type": "code",
   "execution_count": null,
   "id": "c3abc40b",
   "metadata": {},
   "outputs": [],
   "source": [
    "\n",
    "\n",
    "# ---- 1. Import Libraries ----\n",
    "from sklearn import datasets\n",
    "from sklearn.preprocessing import StandardScaler\n",
    "from sklearn.model_selection import train_test_split\n",
    "from sklearn.svm import SVC\n",
    "from sklearn.metrics import accuracy_score, confusion_matrix\n",
    "import numpy as np\n",
    "import matplotlib.pyplot as plt\n",
    "\n",
    "from qiskit import QuantumCircuit\n",
    "from qiskit.circuit import Parameter\n",
    "from qiskit_machine_learning.kernels import FidelityQuantumKernel\n",
    "\n",
    "\n",
    "# ---- 2. Load Iris Data (two classes only) ----\n",
    "iris = datasets.load_iris()\n",
    "X = iris.data[:, :2]  # first two features\n",
    "Y = iris.target\n",
    "\n",
    "mask = Y < 2  # keep only Setosa and Versicolor\n",
    "X = X[mask]\n",
    "Y = Y[mask]\n",
    "\n",
    "print(\" Data shape:\", X.shape)\n",
    "print(\" Classes:\", np.unique(Y))\n",
    "\n",
    "# ---- 3. Normalize ----\n",
    "scaler = StandardScaler()\n",
    "X_scaled = scaler.fit_transform(X)\n",
    "\n",
    "# ---- 4. Split ----\n",
    "x_train, x_test, y_train, y_test = train_test_split(\n",
    "    X_scaled, Y, test_size=0.2, random_state=42\n",
    ")\n",
    "\n",
    "print(\"\\n Train:\", x_train.shape, \" Test:\", x_test.shape)\n",
    "\n",
    "# ---- 5. Define Feature Map (2 parameters for 2 features) ----\n",
    "def feature_map():\n",
    "    x1 = Parameter('x1')\n",
    "    x2 = Parameter('x2')\n",
    "    qc = QuantumCircuit(2)\n",
    "    qc.ry(x1, 0)\n",
    "    qc.ry(x2, 1)\n",
    "    qc.cx(0, 1)\n",
    "    qc.ry(x1, 0)\n",
    "    qc.ry(x2, 1)\n",
    "    return qc\n",
    "\n",
    "qc = feature_map()\n",
    "\n",
    "# ---- 6. Quantum Kernel ----\n",
    "quantum_kernel = FidelityQuantumKernel(feature_map=qc)\n",
    "\n",
    "# ---- 7. Compute Training Kernel ----\n",
    "print(\"\\n Computing training kernel...\")\n",
    "kernel_train = quantum_kernel.evaluate(x_vec=x_train, y_vec=x_train)\n",
    "\n",
    "# ---- 8. Train QSVM ----\n",
    "model = SVC(kernel='precomputed')\n",
    "model.fit(kernel_train, y_train)\n",
    "print(\" QSVM model trained!\")\n",
    "\n",
    "# ---- 9. Evaluate on Training Data ----\n",
    "print(\"\\n Evaluating on training set...\")\n",
    "y_train_pred = model.predict(kernel_train)\n",
    "train_acc = accuracy_score(y_train, y_train_pred)\n",
    "print(f\" Training accuracy: {train_acc * 100:.2f}%\")\n",
    "print(\"Confusion matrix (train):\")\n",
    "print(confusion_matrix(y_train, y_train_pred))\n",
    "\n",
    "# ---- 10. Evaluate on Test Data ----\n",
    "print(\"\\n Evaluating on test set...\")\n",
    "kernel_test = quantum_kernel.evaluate(x_vec=x_test, y_vec=x_train)\n",
    "y_test_pred = model.predict(kernel_test)\n",
    "test_acc = accuracy_score(y_test, y_test_pred)\n",
    "print(f\" Test accuracy: {test_acc * 100:.2f}%\")\n",
    "print(\"Confusion matrix (test):\")\n",
    "print(confusion_matrix(y_test, y_test_pred))\n",
    "\n",
    "# ---- 11. Plot Decision Boundaries ----\n",
    "\n",
    "def plot_decision_boundary(x_data, y_data, title):\n",
    "    xx, yy = np.meshgrid(\n",
    "        np.linspace(x_train[:, 0].min() - 1, x_train[:, 0].max() + 1, 100),\n",
    "        np.linspace(x_train[:, 1].min() - 1, x_train[:, 1].max() + 1, 100)\n",
    "    )\n",
    "    grid_points = np.c_[xx.ravel(), yy.ravel()]\n",
    "    kernel_grid = quantum_kernel.evaluate(x_vec=grid_points, y_vec=x_train)\n",
    "    Z = model.predict(kernel_grid)\n",
    "    Z = Z.reshape(xx.shape)\n",
    "\n",
    "    plt.figure(figsize=(7, 5))\n",
    "    plt.contourf(xx, yy, Z, alpha=0.3, cmap=\"RdBu\")\n",
    "    plt.scatter(x_data[y_data == 0, 0], x_data[y_data == 0, 1],\n",
    "                color='blue', label='Setosa')\n",
    "    plt.scatter(x_data[y_data == 1, 0], x_data[y_data == 1, 1],\n",
    "                color='red', label='Versicolor')\n",
    "    plt.title(title)\n",
    "    plt.xlabel(\"Feature 1\")\n",
    "    plt.ylabel(\"Feature 2\")\n",
    "    plt.legend()\n",
    "    plt.show()\n",
    "\n",
    "#  Plot on training data\n",
    "plot_decision_boundary(x_train, y_train, \" QSVM Decision Boundary (Training Set)\")\n",
    "\n",
    "# 🌿 Plot on test data\n",
    "plot_decision_boundary(x_test, y_test, \" QSVM Decision Boundary (Test Set)\")\n",
    "\n",
    "# ---- 12. Summary ----\n",
    "print(\"\\n Summary:\")\n",
    "print(f\"Training Accuracy: {train_acc*100:.2f}%\")\n",
    "print(f\"Testing Accuracy : {test_acc*100:.2f}%\")\n"
   ]
  }
 ],
 "metadata": {
  "kernelspec": {
   "display_name": "Python 3",
   "language": "python",
   "name": "python3"
  },
  "language_info": {
   "codemirror_mode": {
    "name": "ipython",
    "version": 3
   },
   "file_extension": ".py",
   "mimetype": "text/x-python",
   "name": "python",
   "nbconvert_exporter": "python",
   "pygments_lexer": "ipython3",
   "version": "3.11.9"
  }
 },
 "nbformat": 4,
 "nbformat_minor": 5
}
